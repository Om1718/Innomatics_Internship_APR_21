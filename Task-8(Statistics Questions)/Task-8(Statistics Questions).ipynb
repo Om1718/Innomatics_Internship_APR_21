{
 "cells": [
  {
   "cell_type": "markdown",
   "metadata": {},
   "source": [
    "## Q1 : Binomial Distribution I"
   ]
  },
  {
   "cell_type": "code",
   "execution_count": 2,
   "metadata": {},
   "outputs": [
    {
     "name": "stdout",
     "output_type": "stream",
     "text": [
      "0.696\n"
     ]
    }
   ],
   "source": [
    "import math\n",
    "\n",
    "S = 1.09/(1+1.09)\n",
    "\n",
    "ans = 0\n",
    "\n",
    "for i in range(3):\n",
    "    ans += math.factorial(6) / math.factorial(i) / math.factorial(6-i) * S**i * (1-S)**(6-i)\n",
    "print(round(1-ans, 3))"
   ]
  },
  {
   "cell_type": "markdown",
   "metadata": {},
   "source": [
    "## Q2 : Bionomail Distribution II"
   ]
  },
  {
   "cell_type": "code",
   "execution_count": 4,
   "metadata": {},
   "outputs": [
    {
     "name": "stdout",
     "output_type": "stream",
     "text": [
      "0.891\n",
      "0.342\n"
     ]
    }
   ],
   "source": [
    "import math\n",
    "\n",
    "S = 0.12\n",
    "ans1 = 0\n",
    "for i in range(0, 3):\n",
    "    ans1 += math.factorial(10)/math.factorial(i)/math.factorial(10-i) * S**i * (1-S)**(10-i)\n",
    "    if i == 1:\n",
    "        ans2 = 1 - ans1\n",
    "\n",
    "print(round(ans1, 3))\n",
    "print(round(ans2, 3))"
   ]
  },
  {
   "cell_type": "markdown",
   "metadata": {},
   "source": [
    "## Q3 : Normal Distribution I"
   ]
  },
  {
   "cell_type": "code",
   "execution_count": 8,
   "metadata": {},
   "outputs": [
    {
     "name": "stdout",
     "output_type": "stream",
     "text": [
      "0.401\n",
      "0.341\n"
     ]
    }
   ],
   "source": [
    "from scipy import stats\n",
    "import scipy.stats as st\n",
    "\n",
    "mean, std = 20, 2\n",
    "\n",
    "p1= st.norm.cdf(19.5, mean, std)\n",
    "p2= st.norm.cdf(22,mean, std)-st.norm.cdf(20, mean, std)\n",
    "print(round(p1,3))\n",
    "print(round(p2,3))"
   ]
  },
  {
   "cell_type": "markdown",
   "metadata": {},
   "source": [
    "## Q4 : Normal Distribution II"
   ]
  },
  {
   "cell_type": "code",
   "execution_count": 9,
   "metadata": {},
   "outputs": [
    {
     "name": "stdout",
     "output_type": "stream",
     "text": [
      "15.87\n",
      "84.13\n",
      "15.87\n"
     ]
    }
   ],
   "source": [
    "import math\n",
    "\n",
    "mean, std = 70, 10\n",
    "cdf = lambda x: 0.5 * (1 + math.erf((x - mean) / (std * (2 ** 0.5))))\n",
    "\n",
    "print(round((1-cdf(80))*100,2))\n",
    "print(round((1-cdf(60))*100,2))\n",
    "print(round((cdf(60))*100,2))"
   ]
  },
  {
   "cell_type": "markdown",
   "metadata": {},
   "source": [
    "## Q5 : The Central Limit Theorem I"
   ]
  },
  {
   "cell_type": "code",
   "execution_count": 10,
   "metadata": {},
   "outputs": [
    {
     "name": "stdout",
     "output_type": "stream",
     "text": [
      "0.009815328628645315\n"
     ]
    }
   ],
   "source": [
    "#mean = 205\n",
    "#std = 15\n",
    "#n = 49\n",
    "#target = 9800\n",
    "\n",
    "import math\n",
    "\n",
    "def less_than_boundary_cdf(x, mean, std):\n",
    "    return 1/2*(1+math.erf((x-mean) / std / 2**(1/2)))\n",
    "\n",
    "print(less_than_boundary_cdf(9800, 49 * 205, math.sqrt(49) * 15))"
   ]
  },
  {
   "cell_type": "markdown",
   "metadata": {},
   "source": [
    "## Q6 : The Central Limit Theorem II"
   ]
  },
  {
   "cell_type": "code",
   "execution_count": 11,
   "metadata": {},
   "outputs": [
    {
     "name": "stdout",
     "output_type": "stream",
     "text": [
      "0.6915\n"
     ]
    }
   ],
   "source": [
    "# target = 250\n",
    "# n = 100\n",
    "import math\n",
    "\n",
    "sampling_mean = 2.4\n",
    "sampling_stdev = 2.0\n",
    "\n",
    "stdev = sampling_stdev * math.sqrt(100)\n",
    "\n",
    "cdf = 0.5 * (1 + math.erf((250 - sampling_mean * 100) / (stdev * math.sqrt(2))))\n",
    "\n",
    "print(round(cdf,4))"
   ]
  },
  {
   "cell_type": "markdown",
   "metadata": {},
   "source": [
    "## Q7 : The Central Limit Theorem III"
   ]
  },
  {
   "cell_type": "code",
   "execution_count": 12,
   "metadata": {},
   "outputs": [
    {
     "name": "stdout",
     "output_type": "stream",
     "text": [
      "484.32\n",
      "515.68\n"
     ]
    }
   ],
   "source": [
    "n = 100\n",
    "mean = 500\n",
    "stdev = 80\n",
    "interval = 0.95\n",
    "z = 1.96\n",
    "\n",
    "sd_sample = stdev / (n**0.5)\n",
    "\n",
    "print(round(mean - sd_sample*z,2))\n",
    "print(round(mean + sd_sample*z,2))"
   ]
  },
  {
   "cell_type": "markdown",
   "metadata": {},
   "source": [
    "## Q8 : Pearson Correlation Coefficient I"
   ]
  },
  {
   "cell_type": "code",
   "execution_count": 14,
   "metadata": {},
   "outputs": [
    {
     "name": "stdout",
     "output_type": "stream",
     "text": [
      "10\n",
      "10 9.8 8 7.8 7.7 7 6 5 4 2 \n",
      "200 44 32 24 22 17 15 12 8 4\n",
      "0.612\n"
     ]
    }
   ],
   "source": [
    "n = int(input())\n",
    "x = list(map(float,input().strip().split()))\n",
    "y = list(map(float,input().strip().split()))\n",
    "\n",
    "mu_x = sum(x) / n\n",
    "mu_y = sum(y) / n\n",
    "\n",
    "stdev_x = (sum([(i - mu_x)**2 for i in x]) / n)**0.5\n",
    "stdev_y = (sum([(i - mu_y)**2 for i in y]) / n)**0.5\n",
    "\n",
    "covar = sum([(x[i] - mu_x) * (y[i] -mu_y) for i in range(n)])\n",
    "\n",
    "corr_coeff = covar / (n * stdev_x * stdev_y)\n",
    "\n",
    "print(round(corr_coeff,3))"
   ]
  },
  {
   "cell_type": "markdown",
   "metadata": {},
   "source": [
    "## Q9 : Least Square Regression Line"
   ]
  },
  {
   "cell_type": "code",
   "execution_count": 15,
   "metadata": {},
   "outputs": [
    {
     "name": "stdout",
     "output_type": "stream",
     "text": [
      "95 85\n",
      "85 95\n",
      "80 70\n",
      "70 65\n",
      "60 70\n",
      "78.288\n"
     ]
    }
   ],
   "source": [
    "from statistics import mean, pstdev\n",
    "\n",
    "def pearson(x, y):\n",
    "    mx, sx, my, sy = mean(x), pstdev(x), mean(y), pstdev(y)\n",
    "    return sum((xi - mx) * (yi - my) for xi, yi in zip(x, y)) / (len(x) * sx * sy)\n",
    "\n",
    "\n",
    "def linear_regression(x, y):\n",
    "    b = pearson(x, y) * pstdev(y) / pstdev(x)\n",
    "    return mean(y) - b * mean(x), b\n",
    "\n",
    "x, y = zip(*(map(float, input().split()) for i in range(5)))\n",
    "a, b = linear_regression(x, y)\n",
    "print(f'{a+b*80:.3f}')"
   ]
  },
  {
   "cell_type": "markdown",
   "metadata": {},
   "source": [
    "## Q10 : Multiple Linear Regression\n"
   ]
  },
  {
   "cell_type": "code",
   "execution_count": 18,
   "metadata": {},
   "outputs": [
    {
     "name": "stdout",
     "output_type": "stream",
     "text": [
      "2 7\n",
      "0.18 0.89 109.85\n",
      "1.0 0.26 155.72\n",
      "0.92 0.11 137.66\n",
      "0.07 0.37 76.17\n",
      "0.85 0.16 139.75\n",
      "0.99 0.41 162.6\n",
      "0.87 0.47 151.77\n",
      "4\n",
      "0.49 0.18\n",
      "0.57 0.83\n",
      "0.56 0.64\n",
      "0.76 0.18\n",
      "105.21\n",
      "142.67\n",
      "132.94\n",
      "129.7\n"
     ]
    }
   ],
   "source": [
    "import numpy as np\n",
    "\n",
    "m, n = map(int, input().split())\n",
    "a = []\n",
    "b = []\n",
    "\n",
    "for i in range(n):\n",
    "    s = list(map(float, input().split()))\n",
    "    a.append(1)\n",
    "    a.extend(s[:m])\n",
    "    b.append(s[m:])\n",
    "    \n",
    "n1 = int(input())\n",
    "out_a = []\n",
    "\n",
    "for i in range(n1):\n",
    "    s = list(map(float, input().split()))\n",
    "    out_a.append(1)\n",
    "    out_a.extend(s)\n",
    "    \n",
    "a = np.array(a).reshape(n, m+1)\n",
    "b = np.array(b).reshape(n, 1)\n",
    "out_a = np.array(out_a).reshape(n1, m+1)\n",
    "\n",
    "u = np.dot(np.linalg.inv(np.dot(a.T,a)),np.dot(a.T,b))\n",
    "out_b = out_a.dot(u)\n",
    "\n",
    "for i in out_b:\n",
    "    print(round(float(i),2))"
   ]
  },
  {
   "cell_type": "code",
   "execution_count": null,
   "metadata": {},
   "outputs": [],
   "source": []
  }
 ],
 "metadata": {
  "kernelspec": {
   "display_name": "Python 3",
   "language": "python",
   "name": "python3"
  },
  "language_info": {
   "codemirror_mode": {
    "name": "ipython",
    "version": 3
   },
   "file_extension": ".py",
   "mimetype": "text/x-python",
   "name": "python",
   "nbconvert_exporter": "python",
   "pygments_lexer": "ipython3",
   "version": "3.7.6"
  }
 },
 "nbformat": 4,
 "nbformat_minor": 4
}
