{
 "cells": [
  {
   "cell_type": "code",
   "execution_count": 1,
   "metadata": {
    "id": "PDsdDsX6sgkf"
   },
   "outputs": [],
   "source": [
    "import matplotlib.pyplot as plt\n",
    "import numpy as np\n",
    "from scipy.stats import norm"
   ]
  },
  {
   "cell_type": "code",
   "execution_count": 2,
   "metadata": {
    "id": "vy7hzHwesj9t"
   },
   "outputs": [],
   "source": [
    "# function for t score\n",
    "def t_score(n, sample_mean, pop_mean, sample_std):\n",
    "    numerator = sample_mean - pop_mean\n",
    "    denomenator = sample_std / sample_size**0.5\n",
    "    return numerator / denomenator"
   ]
  },
  {
   "cell_type": "markdown",
   "metadata": {
    "id": "fJgIRlKrtye0"
   },
   "source": [
    "## Understanding the Hypothesis Testing"
   ]
  },
  {
   "cell_type": "markdown",
   "metadata": {
    "id": "hDEFdOYkt04L"
   },
   "source": [
    "Step 1:\n",
    "\n",
    "Alternate Hypothesis (Bold claim): $ H_1 \\Rightarrow  &gt;,  &lt;, \\neq  $\n",
    "\n",
    "Null Hypothesis (Status Quo): $ H_0 \\Rightarrow \\leq, \\geq, = $\n",
    "\n",
    "Step 2:\n",
    "\n",
    "Collect a sample of size n\n",
    "Compute the mean from this sample $ \\bar{x} $\n",
    "Step 3: Compute Test Statistic:\n",
    "\n",
    "If population variance is unknown $ t = \\frac{\\bar{x} - \\mu}{s/ \\sqrt[2]{n}} $\n",
    "\n",
    "Step 4:\n",
    "\n",
    "Decide significance level $ \\alpha $. Lower $ \\alpha $ means you need stronger evidence to reject Null Hypothesis. Let $ \\alpha $ be 0.05\n",
    "\n",
    "\n",
    "Step - 5.1: Apply decision rule:\n",
    "\n",
    "If test statistic is z-score -\n",
    "\n",
    "Two tailed z-test:\n",
    "\n",
    "Right tailed z-test:\n",
    "\n",
    "Left tailed z-test:\n",
    "\n",
    "If test statistic is t-score\n",
    "\n",
    "Two tailed t-test:\n",
    "\n",
    "Right tailed t-test:\n",
    "\n",
    "Left tailed t-test:\n",
    "\n",
    "Step - 5.2: Compute p-value $ P(Test Statistics | H_0) $\n",
    "\n",
    "For two tailed test:\n",
    "\n",
    "For one tailed test:\n",
    "\n",
    "Now, $ if (p value \\lt \\alpha) \\Rightarrow Accept  H_1  or  Reject  H_0 $"
   ]
  },
  {
   "cell_type": "markdown",
   "metadata": {
    "id": "l8siaY62uOEK"
   },
   "source": [
    "### Q-1: Pista House selling Hyderabadi Chicken Dum biryani claims that each parcel packet has 500 grams of biryani (also mentioned on the label of packet). You are sceptic of their claims and believe that on average each packet does not contain 500 grams of biryani. How do you prove your claim? "
   ]
  },
  {
   "cell_type": "code",
   "execution_count": 3,
   "metadata": {
    "id": "uTrFxC3Ysmzb"
   },
   "outputs": [],
   "source": [
    "sample_size = 10\n",
    "sample_mean = 465.3\n",
    "pop_mean = 500"
   ]
  },
  {
   "cell_type": "code",
   "execution_count": 4,
   "metadata": {
    "colab": {
     "base_uri": "https://localhost:8080/"
    },
    "id": "HUlWl3_IsoWK",
    "outputId": "d151965d-1299-4d32-ee7c-a9fae4ba3c14"
   },
   "outputs": [
    {
     "data": {
      "text/plain": [
       "465.3"
      ]
     },
     "execution_count": 4,
     "metadata": {},
     "output_type": "execute_result"
    }
   ],
   "source": [
    "l1 = [490, 220, 470, 500, 495, 496, 496, 498, 508, 480]\n",
    "\n",
    "sum(l1)/len(l1)"
   ]
  },
  {
   "cell_type": "code",
   "execution_count": 5,
   "metadata": {
    "colab": {
     "base_uri": "https://localhost:8080/"
    },
    "id": "q9hxzv5zspyj",
    "outputId": "fd132377-ecd0-4c2d-ca93-f1cd90b89f54"
   },
   "outputs": [
    {
     "data": {
      "text/plain": [
       "9"
      ]
     },
     "execution_count": 5,
     "metadata": {},
     "output_type": "execute_result"
    }
   ],
   "source": [
    "df = len(l1) - 1\n",
    "df"
   ]
  },
  {
   "cell_type": "code",
   "execution_count": 6,
   "metadata": {
    "colab": {
     "base_uri": "https://localhost:8080/"
    },
    "id": "rc17ZNqDssF7",
    "outputId": "6dfbef66-b1b2-4ead-8542-5b2277c9d521"
   },
   "outputs": [
    {
     "data": {
      "text/plain": [
       "82.38573905719362"
      ]
     },
     "execution_count": 6,
     "metadata": {},
     "output_type": "execute_result"
    }
   ],
   "source": [
    "total = 0\n",
    "sample_std = 0\n",
    "for i in l1 :\n",
    "    total+= (i - sample_mean)**2\n",
    "sample_std = (total/len(l1)-1)**0.5\n",
    "sample_std"
   ]
  },
  {
   "cell_type": "code",
   "execution_count": 7,
   "metadata": {
    "id": "k0ks9J8rsuzt"
   },
   "outputs": [],
   "source": [
    "sample_size = 10\n",
    "sample_mean = 465.3\n",
    "pop_mean = 500\n",
    "df = 9\n",
    "sample_std = 82.39"
   ]
  },
  {
   "cell_type": "code",
   "execution_count": 8,
   "metadata": {
    "colab": {
     "base_uri": "https://localhost:8080/"
    },
    "id": "cNdIcXnNsxoT",
    "outputId": "cb53d765-1d63-4b36-8c93-d09302ba7642"
   },
   "outputs": [
    {
     "name": "stdout",
     "output_type": "stream",
     "text": [
      "-1.3318489477830164\n"
     ]
    }
   ],
   "source": [
    "#tscore\n",
    "t1 = t_score(sample_size, sample_mean, pop_mean, sample_std)\n",
    "\n",
    "print(t1)"
   ]
  },
  {
   "cell_type": "code",
   "execution_count": 9,
   "metadata": {
    "id": "rda-5xSlsztv"
   },
   "outputs": [],
   "source": [
    "from scipy.stats import t"
   ]
  },
  {
   "cell_type": "code",
   "execution_count": 10,
   "metadata": {
    "colab": {
     "base_uri": "https://localhost:8080/"
    },
    "id": "sRxvg_ans2EH",
    "outputId": "149f2e1e-18b8-4ea1-a23f-ec02a3ff23a7"
   },
   "outputs": [
    {
     "name": "stdout",
     "output_type": "stream",
     "text": [
      "2.2621571627409915\n"
     ]
    }
   ],
   "source": [
    "# Two tail\n",
    "\n",
    "alpha = 1 - 0.95\n",
    "\n",
    "t_critical = t.ppf(1-alpha/2, df = 9)\n",
    "\n",
    "print(t_critical)"
   ]
  },
  {
   "cell_type": "code",
   "execution_count": 11,
   "metadata": {
    "colab": {
     "base_uri": "https://localhost:8080/",
     "height": 285
    },
    "id": "F0K4w7_Hs308",
    "outputId": "98f33162-d5eb-4195-e81e-3b27745a7450"
   },
   "outputs": [
    {
     "data": {
      "text/plain": [
       "Text(465.3, 0.0007, 'x_bar')"
      ]
     },
     "execution_count": 11,
     "metadata": {},
     "output_type": "execute_result"
    },
    {
     "data": {
      "image/png": "[encoded data removed]",
      "text/plain": [
       "<Figure size 432x288 with 1 Axes>"
      ]
     },
     "metadata": {
      "needs_background": "light"
     },
     "output_type": "display_data"
    }
   ],
   "source": [
    "\n",
    "x_min = 400\n",
    "x_max = 600\n",
    "\n",
    "mean = pop_mean\n",
    "sastd = sample_std / (sample_size**0.5)\n",
    "\n",
    "x = np.linspace(x_min, x_max, 100)\n",
    "y = norm.pdf(x, mean, sastd)\n",
    "plt.xlim(x_min, x_max)\n",
    "plt.plot(x, y)\n",
    "\n",
    "t_critical_left = pop_mean + (-t_critical * sastd)\n",
    "t_critical_right = pop_mean + (t_critical * sastd)\n",
    "\n",
    "\n",
    "x1 = np.linspace(x_min, t_critical_left, 100)\n",
    "y1 = norm.pdf(x1, mean, sastd)\n",
    "plt.fill_between(x1, y1, color='red')\n",
    "\n",
    "x2 = np.linspace(t_critical_right, x_max, 100)\n",
    "y2 = norm.pdf(x2, mean, sastd)\n",
    "plt.fill_between(x2, y2, color='red')\n",
    "\n",
    "\n",
    "plt.scatter(sample_mean, 0)\n",
    "plt.annotate(\"x_bar\", (sample_mean, 0.0007))\n"
   ]
  },
  {
   "cell_type": "code",
   "execution_count": 12,
   "metadata": {
    "colab": {
     "base_uri": "https://localhost:8080/"
    },
    "id": "NEg62P2Us7OZ",
    "outputId": "4402f608-8ff4-4196-ea49-e57cfd7461b6"
   },
   "outputs": [
    {
     "name": "stdout",
     "output_type": "stream",
     "text": [
      "Fail to reject Null Hypothesis\n"
     ]
    }
   ],
   "source": [
    "# inference by t test\n",
    "\n",
    "if( t1 > t_critical):\n",
    "    print(\"Reject Null Hypothesis\")\n",
    "else:\n",
    "    print(\"Fail to reject Null Hypothesis\")"
   ]
  },
  {
   "cell_type": "code",
   "execution_count": 13,
   "metadata": {
    "colab": {
     "base_uri": "https://localhost:8080/"
    },
    "id": "oY5eff3As-YG",
    "outputId": "997f6886-9f2e-45cb-a523-faa57469ec82"
   },
   "outputs": [
    {
     "name": "stdout",
     "output_type": "stream",
     "text": [
      "p_value =  0.18290982980044457\n",
      "Fail to reject Null Hypothesis\n"
     ]
    }
   ],
   "source": [
    "#inference by  p value\n",
    "\n",
    "p_value = 2 * (1.0 - norm.cdf(np.abs(t1)))\n",
    "\n",
    "print(\"p_value = \", p_value)\n",
    "\n",
    "if(p_value < alpha):\n",
    "    print(\"Reject Null Hypothesis\")\n",
    "else:\n",
    "    print(\"Fail to reject Null Hypothesis\")"
   ]
  },
  {
   "cell_type": "markdown",
   "metadata": {
    "id": "54EqYogdu3E-"
   },
   "source": [
    "## Inference : Fail to reject Null Hypothesis"
   ]
  },
  {
   "cell_type": "markdown",
   "metadata": {
    "id": "2AriP8JRvHdS"
   },
   "source": [
    "### Q-2: You have developed a new Natural Language Processing Algorithms and done a user study. You claim that the average rating given by the users is greater than 4 on a scale of 1 to 5. How do you prove this to your client? "
   ]
  },
  {
   "cell_type": "markdown",
   "metadata": {
    "id": "Zi8AZaqBvTJo"
   },
   "source": [
    "Step 1:\n",
    "\n",
    "Alternate Hypothesis (Bold claim):\n",
    "\n",
    "Null Hypothesis (Status Quo):\n",
    "Step 2:\n",
    "\n",
    "Collect the sample of size n=20 $ [4, 3, 5, 4, 5, 3, 5, 5, 4, 2, 4, 5, 5, 4, 4, 5, 4, 5, 4, 5] $\n",
    "Compute sample mean $ \\bar{x}  = 4.25  $\n",
    "Step 3:\n",
    "\n",
    "Compute t-statistic\n",
    "\n",
    "Step 4: Decide $ \\alpha $ or significance level = 0.05\n",
    "\n",
    "Step 5: right tailed t-test"
   ]
  },
  {
   "cell_type": "code",
   "execution_count": 14,
   "metadata": {
    "colab": {
     "base_uri": "https://localhost:8080/"
    },
    "id": "MrqDm_zCvP2V",
    "outputId": "9cec0f44-09d5-4b01-b4a7-d89246c200df"
   },
   "outputs": [
    {
     "data": {
      "text/plain": [
       "4.25"
      ]
     },
     "execution_count": 14,
     "metadata": {},
     "output_type": "execute_result"
    }
   ],
   "source": [
    "l2 = [4,3,5,4,5,3,5,5,4,2,4,5,5,4,4,5,4,5,4,5]\n",
    "\n",
    "sum(l2)/len(l2)"
   ]
  },
  {
   "cell_type": "code",
   "execution_count": 15,
   "metadata": {
    "id": "j4N4PhAPwT73"
   },
   "outputs": [],
   "source": [
    "sample_size = 20\n",
    "sample_mean = 4.25\n",
    "pop_mean = 4"
   ]
  },
  {
   "cell_type": "code",
   "execution_count": 16,
   "metadata": {
    "colab": {
     "base_uri": "https://localhost:8080/"
    },
    "id": "YYDSfR8DwmG6",
    "outputId": "9e85049b-862d-4157-c893-20728149bc7d"
   },
   "outputs": [
    {
     "data": {
      "text/plain": [
       "19"
      ]
     },
     "execution_count": 16,
     "metadata": {},
     "output_type": "execute_result"
    }
   ],
   "source": [
    "df = len(l2) - 1\n",
    "df"
   ]
  },
  {
   "cell_type": "code",
   "execution_count": 17,
   "metadata": {
    "colab": {
     "base_uri": "https://localhost:8080/"
    },
    "id": "otwUOZtswpPq",
    "outputId": "1b372a4e-7dd8-424f-f1aa-f8c9dfeb97e6"
   },
   "outputs": [
    {
     "name": "stdout",
     "output_type": "stream",
     "text": [
      "0.8507\n"
     ]
    }
   ],
   "source": [
    "total =0\n",
    "sample_std =0\n",
    "for i in l2 :\n",
    "    total+=(i - sample_mean)**2\n",
    "sample_std = (total/(len(l2)-1))**0.5\n",
    "print(round(sample_std,4))"
   ]
  },
  {
   "cell_type": "code",
   "execution_count": 18,
   "metadata": {},
   "outputs": [
    {
     "name": "stdout",
     "output_type": "stream",
     "text": [
      "1.3142574813455419\n"
     ]
    }
   ],
   "source": [
    "#tscore\n",
    "t2 = t_score(sample_size, sample_mean, pop_mean, sample_std )\n",
    "\n",
    "print(t2)"
   ]
  },
  {
   "cell_type": "code",
   "execution_count": 19,
   "metadata": {
    "colab": {
     "base_uri": "https://localhost:8080/"
    },
    "id": "2JFoZZ7s0ok-",
    "outputId": "0bca72ab-096c-453c-ac22-4cfedbcdf116"
   },
   "outputs": [
    {
     "name": "stdout",
     "output_type": "stream",
     "text": [
      "1.729132811521367\n"
     ]
    }
   ],
   "source": [
    "# one tail\n",
    "\n",
    "alpha = 1 - 0.95\n",
    "\n",
    "t_critical = t.ppf(1-alpha, df = 19)\n",
    "\n",
    "print(t_critical)"
   ]
  },
  {
   "cell_type": "code",
   "execution_count": 20,
   "metadata": {
    "colab": {
     "base_uri": "https://localhost:8080/",
     "height": 282
    },
    "id": "NYr61_V9zZXT",
    "outputId": "0dc67bfe-0195-4ff1-b18b-df128139042c"
   },
   "outputs": [
    {
     "data": {
      "text/plain": [
       "Text(4.25, 0.01, 'x_bar')"
      ]
     },
     "execution_count": 20,
     "metadata": {},
     "output_type": "execute_result"
    },
    {
     "data": {
      "image/png": "[encoded data removed]",
      "text/plain": [
       "<Figure size 432x288 with 1 Axes>"
      ]
     },
     "metadata": {
      "needs_background": "light"
     },
     "output_type": "display_data"
    }
   ],
   "source": [
    "\n",
    "x_min = 3.5\n",
    "x_max = 4.5\n",
    "\n",
    "mean = pop_mean\n",
    "sastd = sample_std / (sample_size**0.5)\n",
    "\n",
    "x = np.linspace(x_min, x_max, 50)\n",
    "y = norm.pdf(x, mean, sastd)\n",
    "plt.xlim(x_min, x_max)\n",
    "plt.plot(x, y)\n",
    "\n",
    "t_critical_right = pop_mean + (t_critical * sastd)\n",
    "\n",
    "x1 = np.linspace(t_critical_right, x_max, 50)\n",
    "y1 = norm.pdf(x1, mean, sastd)\n",
    "plt.fill_between(x1, y1, color='red')\n",
    "\n",
    "plt.scatter(sample_mean, 0)\n",
    "plt.annotate(\"x_bar\", (sample_mean, 0.01))\n"
   ]
  },
  {
   "cell_type": "code",
   "execution_count": 21,
   "metadata": {
    "colab": {
     "base_uri": "https://localhost:8080/",
     "height": 231
    },
    "id": "Iaxmc8QU0N6C",
    "outputId": "42d4aad4-1263-4221-c5f9-59a0d1b51464"
   },
   "outputs": [
    {
     "name": "stdout",
     "output_type": "stream",
     "text": [
      "Fail to reject Null Hypothesis\n"
     ]
    }
   ],
   "source": [
    "#inference by t test\n",
    "\n",
    "if( t2 > t_critical):\n",
    "    print(\"Reject Null Hypothesis\")\n",
    "else:\n",
    "    print(\"Fail to reject Null Hypothesis\")"
   ]
  },
  {
   "cell_type": "code",
   "execution_count": 22,
   "metadata": {
    "colab": {
     "base_uri": "https://localhost:8080/",
     "height": 231
    },
    "id": "urPiqstx0ak6",
    "outputId": "6e3136f9-8139-49d7-e7ae-b9dd428075f2"
   },
   "outputs": [
    {
     "name": "stdout",
     "output_type": "stream",
     "text": [
      "p_value =  0.18875957054112558\n",
      "Fail to reject Null Hypothesis\n"
     ]
    }
   ],
   "source": [
    "#inference by  p value\n",
    "\n",
    "p_value = 2 * (1.0 - norm.cdf(np.abs(t2)))\n",
    "\n",
    "print(\"p_value = \", p_value)\n",
    "\n",
    "if(p_value < alpha):\n",
    "    print(\"Reject Null Hypothesis\")\n",
    "else:\n",
    "    print(\"Fail to reject Null Hypothesis\")"
   ]
  },
  {
   "cell_type": "markdown",
   "metadata": {
    "id": "sHVkEOfJ1t5a"
   },
   "source": [
    "## Inference : Fail to reject Null Hypothesis"
   ]
  },
  {
   "cell_type": "markdown",
   "metadata": {
    "id": "b1qtmVGF1lbc"
   },
   "source": [
    "### Q-3: TATA has developed a better fuel management system for the SUV segment. They claim that with this system, on average the SUV's mileage is at least 15 km/litre?"
   ]
  },
  {
   "cell_type": "markdown",
   "metadata": {},
   "source": [
    "Step 1:\n",
    "\n",
    "Alternate Hypothesis (Bold claim):\n",
    "\n",
    "Null Hypothesis (Status Quo):\n",
    "Step 2:\n",
    "\n",
    "Collect the sample of size n=10 $ [14.08, 14.13, 15.65, 13.78, 16.26, 14.97, 15.36, 15.81, 14.53, 16.79, 15.78, 16.98, 13.23, 15.43, 15.46, 13.88, 14.31, 14.41, 15.76, 15.38] $\n",
    "Compute sample mean $ \\bar{x}  = 15.098  $\n",
    "Step 3:\n",
    "\n",
    "Compute t-statistic\n",
    "\n",
    "Step 4: Decide $ \\alpha $ or significance level = 0.05\n",
    "\n",
    "Step 5: right tailed t-test:"
   ]
  },
  {
   "cell_type": "code",
   "execution_count": 23,
   "metadata": {},
   "outputs": [
    {
     "data": {
      "text/plain": [
       "15.098999999999998"
      ]
     },
     "execution_count": 23,
     "metadata": {},
     "output_type": "execute_result"
    }
   ],
   "source": [
    "l3 = [14.08, 14.13, 15.65, 13.78, 16.26, 14.97, 15.36, 15.81, 14.53, 16.79, 15.78, 16.98, 13.23, 15.43, 15.46, 13.88, 14.31, 14.41, 15.76, 15.38]\n",
    "\n",
    "sum(l3)/len(l3)"
   ]
  },
  {
   "cell_type": "code",
   "execution_count": 24,
   "metadata": {},
   "outputs": [],
   "source": [
    "sample_size = 20\n",
    "sample_mean = 15.01\n",
    "pop_mean = 15"
   ]
  },
  {
   "cell_type": "code",
   "execution_count": 25,
   "metadata": {},
   "outputs": [
    {
     "data": {
      "text/plain": [
       "19"
      ]
     },
     "execution_count": 25,
     "metadata": {},
     "output_type": "execute_result"
    }
   ],
   "source": [
    "df = len(l3) - 1\n",
    "df"
   ]
  },
  {
   "cell_type": "code",
   "execution_count": 26,
   "metadata": {},
   "outputs": [
    {
     "name": "stdout",
     "output_type": "stream",
     "text": [
      "1.0294\n"
     ]
    }
   ],
   "source": [
    "total =0\n",
    "sample_std =0\n",
    "for i in l3 :\n",
    "    total+=(i - sample_mean)**2\n",
    "sample_std = (total/(len(l3)-1))**0.5\n",
    "print(round(sample_std,4))"
   ]
  },
  {
   "cell_type": "code",
   "execution_count": 27,
   "metadata": {},
   "outputs": [
    {
     "name": "stdout",
     "output_type": "stream",
     "text": [
      "0.04344304871002149\n"
     ]
    }
   ],
   "source": [
    "#tscore\n",
    "t3 = t_score(sample_size, sample_mean, pop_mean, sample_std )\n",
    "\n",
    "print(t3)"
   ]
  },
  {
   "cell_type": "code",
   "execution_count": 28,
   "metadata": {},
   "outputs": [
    {
     "name": "stdout",
     "output_type": "stream",
     "text": [
      "1.729132811521367\n"
     ]
    }
   ],
   "source": [
    "# one tail\n",
    "\n",
    "alpha = 1 - 0.95\n",
    "\n",
    "t_critical = t.ppf(1-alpha, df = 19)\n",
    "\n",
    "print(t_critical)"
   ]
  },
  {
   "cell_type": "code",
   "execution_count": 29,
   "metadata": {},
   "outputs": [
    {
     "data": {
      "text/plain": [
       "Text(15.01, 0.1, 'x_bar')"
      ]
     },
     "execution_count": 29,
     "metadata": {},
     "output_type": "execute_result"
    },
    {
     "data": {
      "image/png": "[encoded data removed]",
      "text/plain": [
       "<Figure size 432x288 with 1 Axes>"
      ]
     },
     "metadata": {
      "needs_background": "light"
     },
     "output_type": "display_data"
    }
   ],
   "source": [
    "x_min = 13\n",
    "x_max = 17\n",
    "\n",
    "mean = pop_mean\n",
    "std = sample_std / (sample_size**0.5)\n",
    "\n",
    "x = np.linspace(x_min, x_max, 100)\n",
    "y = norm.pdf(x, mean, std)\n",
    "\n",
    "plt.xlim(x_min, x_max)\n",
    "# plt.ylim(0, 0.03)\n",
    "\n",
    "plt.plot(x, y)\n",
    "\n",
    "t_critical_right = pop_mean + (t_critical * std)\n",
    "\n",
    "x1 = np.linspace(t_critical_right, x_max, 100)\n",
    "y1 = norm.pdf(x1, mean, std)\n",
    "plt.fill_between(x1, y1, color='red')\n",
    "\n",
    "plt.scatter(sample_mean, 0)\n",
    "plt.annotate(\"x_bar\", (sample_mean, 0.1))"
   ]
  },
  {
   "cell_type": "code",
   "execution_count": 30,
   "metadata": {},
   "outputs": [
    {
     "name": "stdout",
     "output_type": "stream",
     "text": [
      "Fail to reject Null Hypothesis\n"
     ]
    }
   ],
   "source": [
    "# inference by t test\n",
    "if(t3 > t_critical):\n",
    "    print(\"Reject Null Hypothesis\")\n",
    "else:\n",
    "    print(\"Fail to reject Null Hypothesis\")"
   ]
  },
  {
   "cell_type": "code",
   "execution_count": 31,
   "metadata": {},
   "outputs": [
    {
     "name": "stdout",
     "output_type": "stream",
     "text": [
      "p_value =  0.4826741810833277\n",
      "Fail to reject Null Hypothesis\n"
     ]
    }
   ],
   "source": [
    "#inference by  p test\n",
    "\n",
    "p_value = 1.0 - norm.cdf(np.abs(t3))\n",
    "\n",
    "print(\"p_value = \", p_value)\n",
    "\n",
    "if(p_value < alpha):\n",
    "    print(\"Reject Null Hypothesis\")\n",
    "else:\n",
    "    print(\"Fail to reject Null Hypothesis\")"
   ]
  },
  {
   "cell_type": "markdown",
   "metadata": {},
   "source": [
    "## Inference : Fail to reject null hypothesis"
   ]
  },
  {
   "cell_type": "markdown",
   "metadata": {},
   "source": [
    "### Q-4: You have developed a new Machine Learning Application and claim that on average it takes less than 100 ms to predict for any future datapoint. How do you convince your client about this claim?"
   ]
  },
  {
   "cell_type": "markdown",
   "metadata": {},
   "source": [
    "Step 1:\n",
    "\n",
    "Alternate Hypothesis (Bold claim):\n",
    "\n",
    "Null Hypothesis (Status Quo):\n",
    "Step 2:\n",
    "\n",
    "Collect the sample of size n=100\n",
    "Compute sample mean $ \\bar{x}  = 97.5  $\n",
    "\n",
    "Step 3:  Compute t-statistic\n",
    "\n",
    "Step 4: Decide $ \\alpha $ or significance level = 0.05\n",
    "\n",
    "Step 5: left tailed t-test:"
   ]
  },
  {
   "cell_type": "code",
   "execution_count": 32,
   "metadata": {},
   "outputs": [],
   "source": [
    "sample_size = 100\n",
    "sample_mean = 97.5\n",
    "pop_mean = 100\n",
    "pop_std = 10\n",
    "sample_std = 7"
   ]
  },
  {
   "cell_type": "code",
   "execution_count": 33,
   "metadata": {},
   "outputs": [
    {
     "data": {
      "text/plain": [
       "99"
      ]
     },
     "execution_count": 33,
     "metadata": {},
     "output_type": "execute_result"
    }
   ],
   "source": [
    "df = sample_size - 1\n",
    "df"
   ]
  },
  {
   "cell_type": "code",
   "execution_count": 34,
   "metadata": {},
   "outputs": [
    {
     "name": "stdout",
     "output_type": "stream",
     "text": [
      "-3.5714285714285716\n"
     ]
    }
   ],
   "source": [
    "# tscore\n",
    "t4 = t_score(sample_size, sample_mean, pop_mean, sample_std )\n",
    "\n",
    "print(t4)"
   ]
  },
  {
   "cell_type": "code",
   "execution_count": 35,
   "metadata": {},
   "outputs": [
    {
     "name": "stdout",
     "output_type": "stream",
     "text": [
      "1.6603911559963895\n"
     ]
    }
   ],
   "source": [
    "# one tail\n",
    "\n",
    "alpha = 1 - 0.95\n",
    "\n",
    "t_critical = t.ppf(1-alpha, df = 99)\n",
    "\n",
    "print(t_critical)"
   ]
  },
  {
   "cell_type": "code",
   "execution_count": 36,
   "metadata": {},
   "outputs": [
    {
     "data": {
      "text/plain": [
       "Text(97.5, 0.02, 'x_bar')"
      ]
     },
     "execution_count": 36,
     "metadata": {},
     "output_type": "execute_result"
    },
    {
     "data": {
      "image/png": "[encoded data removed]",
      "text/plain": [
       "<Figure size 432x288 with 1 Axes>"
      ]
     },
     "metadata": {
      "needs_background": "light"
     },
     "output_type": "display_data"
    }
   ],
   "source": [
    "x_min = 95\n",
    "x_max = 105\n",
    "\n",
    "mean = pop_mean\n",
    "std = sample_std / (sample_size**0.5)\n",
    "\n",
    "x = np.linspace(x_min, x_max, 100)\n",
    "y = norm.pdf(x, mean, std)\n",
    "\n",
    "plt.xlim(x_min, x_max)\n",
    "# plt.ylim(0, 0.03)\n",
    "\n",
    "plt.plot(x, y)\n",
    "\n",
    "t_critical_left = pop_mean + (-t_critical * std)\n",
    "\n",
    "x1 = np.linspace(x_min, t_critical_left, 100)\n",
    "y1 = norm.pdf(x1, mean, std)\n",
    "plt.fill_between(x1, y1, color='red')\n",
    "\n",
    "plt.scatter(sample_mean, 0)\n",
    "plt.annotate(\"x_bar\", (sample_mean, 0.02))"
   ]
  },
  {
   "cell_type": "code",
   "execution_count": 37,
   "metadata": {},
   "outputs": [
    {
     "name": "stdout",
     "output_type": "stream",
     "text": [
      "Reject Null Hypothesis\n"
     ]
    }
   ],
   "source": [
    "#inference by t test\n",
    "if(t4 < -t_critical):\n",
    "    print(\"Reject Null Hypothesis\")\n",
    "else:\n",
    "    print(\"Fail to reject Null Hypothesis\")"
   ]
  },
  {
   "cell_type": "code",
   "execution_count": 38,
   "metadata": {},
   "outputs": [
    {
     "name": "stdout",
     "output_type": "stream",
     "text": [
      "p_value =  0.00017751969037349546\n",
      "Reject Null Hypothesis\n"
     ]
    }
   ],
   "source": [
    "#inference by p value\n",
    "p_value = 1.0 - norm.cdf(np.abs(t4))\n",
    "\n",
    "print(\"p_value = \", p_value)\n",
    "\n",
    "if(p_value < 0.01):\n",
    "    print(\"Reject Null Hypothesis\")\n",
    "else:\n",
    "    print(\"Fail to reject Null Hypothesis\")"
   ]
  },
  {
   "cell_type": "markdown",
   "metadata": {},
   "source": [
    "## Inference : Reject Null Hypothesis"
   ]
  }
 ],
 "metadata": {
  "colab": {
   "name": "Untitled7.ipynb",
   "provenance": []
  },
  "kernelspec": {
   "display_name": "Python 3",
   "language": "python",
   "name": "python3"
  },
  "language_info": {
   "codemirror_mode": {
    "name": "ipython",
    "version": 3
   },
   "file_extension": ".py",
   "mimetype": "text/x-python",
   "name": "python",
   "nbconvert_exporter": "python",
   "pygments_lexer": "ipython3",
   "version": "3.7.6"
  }
 },
 "nbformat": 4,
 "nbformat_minor": 1
}
