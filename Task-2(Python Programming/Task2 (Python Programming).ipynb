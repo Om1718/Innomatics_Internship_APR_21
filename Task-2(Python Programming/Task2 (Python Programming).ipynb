{
 "cells": [
  {
   "cell_type": "markdown",
   "metadata": {},
   "source": [
    "## Q1 : List Comprehension"
   ]
  },
  {
   "cell_type": "code",
   "execution_count": 44,
   "metadata": {},
   "outputs": [
    {
     "name": "stdout",
     "output_type": "stream",
     "text": [
      "1\n",
      "1\n",
      "1\n",
      "2\n",
      "[[0, 0, 0], [0, 0, 1], [0, 1, 0], [1, 0, 0], [1, 1, 1]]\n"
     ]
    }
   ],
   "source": [
    "if __name__ == '__main__':\n",
    "    x = int(input())\n",
    "    y = int(input())\n",
    "    z = int(input())\n",
    "    n = int(input())\n",
    "    \n",
    "lst = [ [i,j,k] for i in range(x+1) for j in range(y+1) for k in range(z+1) ]\n",
    "\n",
    "m =[]\n",
    "\n",
    "for i in lst:\n",
    "    s=sum(i)  \n",
    "    \n",
    "    if s!=n:\n",
    "        m.append(i)\n",
    "\n",
    "print(m)"
   ]
  },
  {
   "cell_type": "markdown",
   "metadata": {},
   "source": [
    "## Q2 : Find the Runner up score"
   ]
  },
  {
   "cell_type": "code",
   "execution_count": 36,
   "metadata": {},
   "outputs": [
    {
     "name": "stdout",
     "output_type": "stream",
     "text": [
      "5\n",
      "2 3 6 6 5 \n",
      "5\n"
     ]
    }
   ],
   "source": [
    "if __name__ == '__main__':\n",
    "    n = int(input())\n",
    "    arr = map(int, input().split())\n",
    "    \n",
    "    arr = list(set(arr))\n",
    "    \n",
    "    a = max(arr)\n",
    "    \n",
    "    c = arr.count(a)\n",
    "    \n",
    "    for i in range(c):\n",
    "        arr.remove(a)\n",
    "        \n",
    "    print(max(arr))"
   ]
  },
  {
   "cell_type": "markdown",
   "metadata": {},
   "source": [
    "## Q3 : Nested Lists"
   ]
  },
  {
   "cell_type": "code",
   "execution_count": 41,
   "metadata": {},
   "outputs": [
    {
     "name": "stdout",
     "output_type": "stream",
     "text": [
      "5\n",
      "harry\n",
      "37.21\n",
      "berry\n",
      "37.21\n",
      "tina\n",
      "37.2\n",
      "akriti\n",
      "41\n",
      "harsh\n",
      "39\n",
      "[['harry', 37.21], ['berry', 37.21], ['tina', 37.2], ['akriti', 41.0], ['harsh', 39.0]]\n",
      "[37.21, 37.21, 37.2, 41.0, 39.0]\n",
      "[37.2, 37.21, 39.0, 41.0]\n",
      "37.21\n",
      "['harry', 'berry']\n",
      "['berry', 'harry']\n",
      "berry\n",
      "harry\n"
     ]
    }
   ],
   "source": [
    "n = int(input())\n",
    "result = []\n",
    "grade=[]\n",
    "\n",
    "for i in range(n):\n",
    "    name = str(input())\n",
    "    marks = float(input())\n",
    "    result.append([name, marks])\n",
    "    grade.append(marks) \n",
    "print(result)\n",
    "print(grade)\n",
    "    \n",
    "grade = sorted(set(grade))\n",
    "print(grade)\n",
    "m = grade[1]\n",
    "print(m)\n",
    "name = []\n",
    "for val in result:\n",
    "    if m==val[1]:\n",
    "        name.append(val[0])\n",
    "print(name)\n",
    "name.sort()\n",
    "print(name)\n",
    "\n",
    "for nm in name:\n",
    "    print(nm)"
   ]
  },
  {
   "cell_type": "code",
   "execution_count": 42,
   "metadata": {},
   "outputs": [],
   "source": [
    "#5\n",
    "#Harry\n",
    "#37.21\n",
    "#Berry\n",
    "#37.21\n",
    "#Tina\n",
    "#37.2\n",
    "#Akriti\n",
    "#41\n",
    "#Harsh\n",
    "#39"
   ]
  },
  {
   "cell_type": "markdown",
   "metadata": {},
   "source": [
    "## Q4 : Finding the percentage"
   ]
  },
  {
   "cell_type": "code",
   "execution_count": 45,
   "metadata": {},
   "outputs": [
    {
     "name": "stdout",
     "output_type": "stream",
     "text": [
      "3\n",
      "Krishna 67 68 69\n",
      "Arjun 70 98 63\n",
      "Malika 52 56 60\n",
      "Malika\n",
      "56.00\n"
     ]
    }
   ],
   "source": [
    "n = int(input())\n",
    "student_marks = {}\n",
    "for _ in range(n):\n",
    "    name, *line = input().split()\n",
    "    scores = list(map(float, line))\n",
    "    student_marks[name] = scores\n",
    "query_name = input()\n",
    "    \n",
    "s = 0\n",
    "    \n",
    "for i in student_marks[query_name]:\n",
    "    s = s+i\n",
    "print(format((s/3),\".2f\"))"
   ]
  },
  {
   "cell_type": "markdown",
   "metadata": {},
   "source": [
    "## Q5 : Lists"
   ]
  },
  {
   "cell_type": "code",
   "execution_count": 47,
   "metadata": {},
   "outputs": [
    {
     "name": "stdout",
     "output_type": "stream",
     "text": [
      "12\n",
      "insert 0 15\n",
      "insert 1 10\n",
      "insert 0 6\n",
      "print\n",
      "[6, 15, 10]\n",
      "remove 6\n",
      "append 9\n",
      "append 1\n",
      "sort\n",
      "print\n",
      "[1, 9, 10, 15]\n",
      "pop\n",
      "reverse\n",
      "print\n",
      "[10, 9, 1]\n"
     ]
    }
   ],
   "source": [
    "lst = []\n",
    "n = int(input())\n",
    "for i in range(n):\n",
    "    s = input().split()\n",
    "    for i in range(1,len(s)):\n",
    "        s[i]= int(s[i])\n",
    "        \n",
    "    if s[0]==\"append\":\n",
    "        lst.append(s[1])\n",
    "        \n",
    "    elif s[0]==\"insert\":\n",
    "        lst.insert(s[1],s[2])\n",
    "        \n",
    "    elif s[0]==\"remove\":\n",
    "        lst.remove(s[1])\n",
    "        \n",
    "    elif s[0]==\"pop\":\n",
    "        lst.pop()\n",
    "        \n",
    "    elif s[0]==\"sort\":\n",
    "        lst.sort()\n",
    "    \n",
    "    elif s[0]==\"reverse\":\n",
    "        lst.reverse()\n",
    "        \n",
    "    else:\n",
    "        print(lst)"
   ]
  },
  {
   "cell_type": "markdown",
   "metadata": {},
   "source": [
    "## Q6 :  Tuples"
   ]
  },
  {
   "cell_type": "code",
   "execution_count": 48,
   "metadata": {},
   "outputs": [
    {
     "name": "stdout",
     "output_type": "stream",
     "text": [
      "1\n",
      "1 2\n",
      "3713081631934410656\n"
     ]
    }
   ],
   "source": [
    "n = int(input())\n",
    "integer_list = tuple(map(int, input().split()))\n",
    "\n",
    "print(hash(integer_list))"
   ]
  },
  {
   "cell_type": "markdown",
   "metadata": {},
   "source": [
    "## Q7 : Introductions to set"
   ]
  },
  {
   "cell_type": "code",
   "execution_count": 62,
   "metadata": {},
   "outputs": [
    {
     "name": "stdout",
     "output_type": "stream",
     "text": [
      "10\n",
      "161 182 161 154 176 170 167 171 170 174\n",
      "169.375\n"
     ]
    }
   ],
   "source": [
    "def average(array):\n",
    "    array = set(array)\n",
    "    \n",
    "    return sum(array)/len(array)\n",
    "\n",
    "if __name__ == '__main__':\n",
    "    n = int(input())\n",
    "    arr = list(map(int, input().split()))\n",
    "    result = average(arr)\n",
    "    print(result)"
   ]
  },
  {
   "cell_type": "markdown",
   "metadata": {},
   "source": [
    "## Q8 : No Idea!"
   ]
  },
  {
   "cell_type": "code",
   "execution_count": 63,
   "metadata": {},
   "outputs": [
    {
     "name": "stdout",
     "output_type": "stream",
     "text": [
      "3 2\n",
      "1 5 3\n",
      "3 1\n",
      "5 7\n",
      "1\n"
     ]
    }
   ],
   "source": [
    "\n",
    "n,m=list(map(int,input().split()))\n",
    "arr=list(map(int,input().split()))\n",
    "\n",
    "A=set(map(int,input().split()))\n",
    "B=set(map(int,input().split()))\n",
    "\n",
    "print(sum((i in A) - (i in B) for i in arr))"
   ]
  },
  {
   "cell_type": "markdown",
   "metadata": {},
   "source": [
    "## Q9 : Symmetric Difference"
   ]
  },
  {
   "cell_type": "code",
   "execution_count": 64,
   "metadata": {},
   "outputs": [
    {
     "name": "stdout",
     "output_type": "stream",
     "text": [
      "4\n",
      "2 4 5 9\n",
      "4\n",
      "2 4 11 12\n",
      "5\n",
      "9\n",
      "11\n",
      "12\n"
     ]
    }
   ],
   "source": [
    "m = int(input())\n",
    "m_set = set(map(int, input().split()))\n",
    "n = int(input())\n",
    "n_set = set(map(int, input().split()))\n",
    "\n",
    "m_differ_n = m_set.difference(n_set)\n",
    "n_differ_m = n_set.difference(m_set)\n",
    "\n",
    "result = list(m_differ_n) + list(n_differ_m)\n",
    "\n",
    "result = sorted(result)\n",
    "\n",
    "print(*result,sep=\"\\n\")"
   ]
  },
  {
   "cell_type": "markdown",
   "metadata": {},
   "source": [
    "## Q10 : Set.add()"
   ]
  },
  {
   "cell_type": "code",
   "execution_count": 65,
   "metadata": {},
   "outputs": [
    {
     "name": "stdout",
     "output_type": "stream",
     "text": [
      "7\n",
      "UK\n",
      "CHINA\n",
      "USA\n",
      "FRANCE\n",
      "NEW ZEALAND\n",
      "UK\n",
      "FRANCE\n",
      "5\n"
     ]
    }
   ],
   "source": [
    "n = int(input())\n",
    "x = [input() for i in range(n)]\n",
    "\n",
    "cs = set(x)\n",
    "\n",
    "print(len(cs))"
   ]
  },
  {
   "cell_type": "markdown",
   "metadata": {},
   "source": [
    "## Q11 : Set.discard(), .remove() and .pop()"
   ]
  },
  {
   "cell_type": "code",
   "execution_count": 67,
   "metadata": {},
   "outputs": [
    {
     "name": "stdout",
     "output_type": "stream",
     "text": [
      "9\n",
      "1 2 3 4 5 6 7 8 9\n",
      "10\n",
      "pop\n",
      "remove 9\n",
      "discard 9\n",
      "discard 8\n",
      "remove 7\n",
      "pop\n",
      "discard 6\n",
      "remove 5\n",
      "pop\n",
      "discard 5\n",
      "4\n"
     ]
    }
   ],
   "source": [
    "n = int(input())\n",
    "s = set(map(int, input().split()))\n",
    "\n",
    "for i in range(int(input())):\n",
    "    s1 = input().split()\n",
    "    if s1[0]=='pop':\n",
    "        s.pop()\n",
    "    if s1[0]=='remove':\n",
    "        s.remove(int(s1[1]))\n",
    "    if s1[0]=='discard':\n",
    "        s.discard(int(s1[1]))\n",
    "\n",
    "print(sum(s))"
   ]
  },
  {
   "cell_type": "markdown",
   "metadata": {},
   "source": [
    "## Q12 : Set.union()"
   ]
  },
  {
   "cell_type": "code",
   "execution_count": 69,
   "metadata": {},
   "outputs": [
    {
     "name": "stdout",
     "output_type": "stream",
     "text": [
      "9 \n",
      "1 2 3 4 5 6 7 8 9\n",
      "9 \n",
      "10 1 2 3 11 21 55 6 8\n",
      "13\n"
     ]
    }
   ],
   "source": [
    "a = int(input())\n",
    "x = set(input().split())\n",
    "b = int(input())\n",
    "y = set(input().split())\n",
    "\n",
    "x = x.union(y)\n",
    "print(len(x))"
   ]
  },
  {
   "cell_type": "markdown",
   "metadata": {},
   "source": [
    "## Q13 : Set.interaction()\n"
   ]
  },
  {
   "cell_type": "code",
   "execution_count": 70,
   "metadata": {},
   "outputs": [
    {
     "name": "stdout",
     "output_type": "stream",
     "text": [
      "9\n",
      "1 2 3 4 5 6 7 8 9\n",
      "9 \n",
      "10 1 2 3 11 21 55 6 8\n",
      "5\n"
     ]
    }
   ],
   "source": [
    "a = int(input())\n",
    "x = set(input().split())\n",
    "b = int(input())\n",
    "y = set(input().split())\n",
    "\n",
    "x = x.intersection(y)\n",
    "print(len(x))"
   ]
  },
  {
   "cell_type": "markdown",
   "metadata": {},
   "source": [
    "## Q14 : Set .difference()"
   ]
  },
  {
   "cell_type": "code",
   "execution_count": 71,
   "metadata": {},
   "outputs": [
    {
     "name": "stdout",
     "output_type": "stream",
     "text": [
      "9\n",
      "1 2 3 4 5 6 7 8 9\n",
      "9 \n",
      "10 1 2 3 11 21 55 6 8\n",
      "4\n"
     ]
    }
   ],
   "source": [
    "a = int(input())\n",
    "x = set(input().split())\n",
    "b = int(input())\n",
    "y = set(input().split())\n",
    "\n",
    "x = x.difference(y)\n",
    "print(len(x))"
   ]
  },
  {
   "cell_type": "markdown",
   "metadata": {},
   "source": [
    "## Q15 : Set .symmetric_difference() Operation"
   ]
  },
  {
   "cell_type": "code",
   "execution_count": 72,
   "metadata": {},
   "outputs": [
    {
     "name": "stdout",
     "output_type": "stream",
     "text": [
      "9\n",
      "1 2 3 4 5 6 7 8 9\n",
      "9\n",
      "10 1 2 3 11 21 55 6 8\n",
      "8\n"
     ]
    }
   ],
   "source": [
    "a = int(input())\n",
    "x = set(input().split())\n",
    "b = int(input())\n",
    "y = set(input().split())\n",
    "\n",
    "m = set(x.union(y))\n",
    "n = set(x.intersection(y))\n",
    "\n",
    "print(len(m)-len(n))"
   ]
  },
  {
   "cell_type": "markdown",
   "metadata": {},
   "source": [
    "## Q16 : Set Mutations"
   ]
  },
  {
   "cell_type": "code",
   "execution_count": 73,
   "metadata": {},
   "outputs": [
    {
     "name": "stdout",
     "output_type": "stream",
     "text": [
      "16\n",
      "1 2 3 4 5 6 7 8 9 10 11 12 13 14 24 52\n",
      "4\n",
      "intersection_update 10\n",
      "2 3 5 6 8 9 1 4 7 11\n",
      "update 2\n",
      "55 66\n",
      "symmetric_difference_update 5\n",
      "22 7 35 62 58\n",
      "difference_update 7\n",
      "11 22 35 55 58 62 66\n",
      "38\n"
     ]
    }
   ],
   "source": [
    "a = int(input())\n",
    "x = set(map(int,input().split()))\n",
    "b = int(input())\n",
    "\n",
    "for i in range(b):\n",
    "    y=input().split(' ')\n",
    "    if y[0]==\"intersection_update\":\n",
    "        z=set(map(int,input().split()))\n",
    "        x&=z\n",
    "    elif y[0]==\"update\":\n",
    "        z=set(map(int,input().split()))\n",
    "        x|=z\n",
    "    elif y[0]==\"symmetric_difference_update\":\n",
    "        z=set(map(int,input().split()))\n",
    "        x^=z\n",
    "    else:\n",
    "        z=set(map(int,input().split()))\n",
    "        x-=z\n",
    "\n",
    "xyz = 0\n",
    "\n",
    "for y in x:\n",
    "    xyz+=y\n",
    "print(xyz)"
   ]
  },
  {
   "cell_type": "markdown",
   "metadata": {},
   "source": [
    "## Q17 : The Captain's Room"
   ]
  },
  {
   "cell_type": "code",
   "execution_count": 74,
   "metadata": {},
   "outputs": [
    {
     "name": "stdout",
     "output_type": "stream",
     "text": [
      "5\n",
      "1 2 3 6 5 4 4 2 5 3 6 1 6 5 3 2 4 1 2 5 1 4 3 6 8 4 3 1 5 6 2\n",
      "8\n"
     ]
    }
   ],
   "source": [
    "a = input()\n",
    "b = input().split(\" \")\n",
    "\n",
    "x = set()\n",
    "y = set()\n",
    "\n",
    "for i in b:\n",
    "    if i not in x:\n",
    "        x.add(i)\n",
    "        y.add(i)\n",
    "    else:\n",
    "        y.discard(i)\n",
    "print(y.pop())"
   ]
  },
  {
   "cell_type": "markdown",
   "metadata": {},
   "source": [
    "## Q18 : Check Subset"
   ]
  },
  {
   "cell_type": "code",
   "execution_count": 77,
   "metadata": {},
   "outputs": [
    {
     "name": "stdout",
     "output_type": "stream",
     "text": [
      "3 \n",
      "5\n",
      "1 2 3 5 6\n",
      "9\n",
      "9 8 5 6 3 2 1 4 7\n",
      "True\n",
      "1 \n",
      "2 \n",
      "5\n",
      "3 6 5 4 1\n",
      "False\n",
      "7\n",
      "1 2 3 5 6 8 9\n",
      "3\n",
      "9 8 2\n",
      "False\n"
     ]
    }
   ],
   "source": [
    "for i in range(int(input())):\n",
    "    a =int(input())\n",
    "    x=set(map(int,input().split()))\n",
    "    b =int(input())    \n",
    "    y=set(map(int,input().split()))\n",
    "    if x.issubset(y):\n",
    "        print(True)\n",
    "    else:\n",
    "        print(False)"
   ]
  },
  {
   "cell_type": "markdown",
   "metadata": {},
   "source": [
    "## Q19 : Check Strict Superset"
   ]
  },
  {
   "cell_type": "code",
   "execution_count": 78,
   "metadata": {},
   "outputs": [
    {
     "name": "stdout",
     "output_type": "stream",
     "text": [
      "1 2 3 4 5 6 7 8 9 10 11 12 23 45 84 78\n",
      "2\n",
      "1 2 3 4 5\n",
      "100 11 12\n",
      "False\n"
     ]
    }
   ],
   "source": [
    "a = set(map(int,input().split()))\n",
    "flag=0\n",
    "for i in range(int(input())):\n",
    "    ss = set(map(int,input().split()))\n",
    "    if a.issuperset(ss) == False:\n",
    "        flag=1\n",
    "if flag==1:\n",
    "    print(False)\n",
    "else:\n",
    "    print(True)"
   ]
  },
  {
   "cell_type": "code",
   "execution_count": null,
   "metadata": {},
   "outputs": [],
   "source": []
  }
 ],
 "metadata": {
  "kernelspec": {
   "display_name": "Python 3",
   "language": "python",
   "name": "python3"
  },
  "language_info": {
   "codemirror_mode": {
    "name": "ipython",
    "version": 3
   },
   "file_extension": ".py",
   "mimetype": "text/x-python",
   "name": "python",
   "nbconvert_exporter": "python",
   "pygments_lexer": "ipython3",
   "version": "3.7.6"
  }
 },
 "nbformat": 4,
 "nbformat_minor": 4
}
